{
 "cells": [
  {
   "cell_type": "code",
   "execution_count": 11,
   "id": "0fd892c3",
   "metadata": {},
   "outputs": [
    {
     "name": "stdout",
     "output_type": "stream",
     "text": [
      "{\n",
      "  \"type\": \"ai\",\n",
      "  \"content\": \"\",\n",
      "  \"additional_kwargs\": {\n",
      "    \"function_call\": {\n",
      "      \"name\": \"sql_db_query\",\n",
      "      \"arguments\": \"{\\\"query\\\": \\\"SELECT * FROM sensor_readings WHERE \\\\\\\"Machine_ID\\\\\\\" = 19 ORDER BY created_at DESC LIMIT 1;\\\"}\"\n",
      "    }\n",
      "  },\n",
      "  \"tool_calls\": [\n",
      "    {\n",
      "      \"name\": \"sql_db_query\",\n",
      "      \"args\": {\n",
      "        \"query\": \"SELECT * FROM sensor_readings WHERE \\\"Machine_ID\\\" = 19 ORDER BY created_at DESC LIMIT 1;\"\n",
      "      },\n",
      "      \"id\": \"4db70b6c-caaf-4def-9b3e-7f93464befe0\",\n",
      "      \"type\": \"tool_call\"\n",
      "    }\n",
      "  ]\n",
      "}\n"
     ]
    }
   ],
   "source": [
    "import json\n",
    "from datetime import datetime\n",
    "\n",
    "response = {\n",
    "    'messages': [\n",
    "        {\n",
    "            'type': 'human',\n",
    "            'content': 'مكنه رقم 19 هتعطل ولا لا؟'\n",
    "        },\n",
    "        {\n",
    "            'type': 'ai',\n",
    "            'content': '',\n",
    "            'additional_kwargs': {\n",
    "                'function_call': {\n",
    "                    'name': 'sql_db_query',\n",
    "                    'arguments': '{\"query\": \"SELECT * FROM sensor_readings WHERE \\\\\"Machine_ID\\\\\" = 19 ORDER BY created_at DESC LIMIT 1;\"}'\n",
    "                }\n",
    "            },\n",
    "            'tool_calls': [{\n",
    "                'name': 'sql_db_query',\n",
    "                'args': {'query': 'SELECT * FROM sensor_readings WHERE \"Machine_ID\" = 19 ORDER BY created_at DESC LIMIT 1;'},\n",
    "                'id': '4db70b6c-caaf-4def-9b3e-7f93464befe0',\n",
    "                'type': 'tool_call'\n",
    "            }]\n",
    "        },\n",
    "        {\n",
    "            'type': 'tool',\n",
    "            'content': \"[(19, 8, 2008, 28973, 63.04, 12.97, 84.09, 57.1, 86.37, 90.68, 300, 4, 4, True, 6, 767.0, False, 74.9955133280549, 119.91751351351351, 39.98479440645274, 499.7609662936258, 2, '2025-01-01 00:19:00')]\",\n",
    "            'name': 'sql_db_query'\n",
    "        },\n",
    "        {\n",
    "            'type': 'ai',\n",
    "            'content': 'بناءً على آخر قراءة من المستشعرات، يمكنني أن أقول أن الماكينة رقم 19 تعمل حاليًا.'\n",
    "        }\n",
    "    ],\n",
    "    'structured_response': {\n",
    "        'Machine_ID': 19,\n",
    "        'Temperature_C': 119.92,\n",
    "        'Vibration_mms': 86.37,\n",
    "        'Failure_Within_7_Days': False,\n",
    "        'Remaining_Useful_Life_days': 499,\n",
    "        'overall_llm_opinion_response': 'Machine 19 is currently operational based on sensor data.'\n",
    "    }\n",
    "}\n",
    "\n",
    "# This now parses without errors!\n",
    "print(json.dumps(response['messages'][1], ensure_ascii=False, indent=2))"
   ]
  },
  {
   "cell_type": "code",
   "execution_count": null,
   "id": "e2a79382",
   "metadata": {},
   "outputs": [
    {
     "name": "stdout",
     "output_type": "stream",
     "text": [
      "\"SELECT * FROM sensor_readings WHERE \\\"Machine_ID\\\" = 19 ORDER BY created_at DESC LIMIT 1;\"\n"
     ]
    }
   ],
   "source": [
    "print(json.dumps(response['messages'][1]['tool_calls'][0]['args']['query'], ensure_ascii=False, indent=2))"
   ]
  },
  {
   "cell_type": "code",
   "execution_count": null,
   "id": "fa0e069d",
   "metadata": {},
   "outputs": [
    {
     "name": "stdout",
     "output_type": "stream",
     "text": [
      "{\n",
      "  \"type\": \"tool\",\n",
      "  \"content\": \"[(19, 8, 2008, 28973, 63.04, 12.97, 84.09, 57.1, 86.37, 90.68, 300, 4, 4, True, 6, 767.0, False, 74.9955133280549, 119.91751351351351, 39.98479440645274, 499.7609662936258, 2, '2025-01-01 00:19:00')]\",\n",
      "  \"name\": \"sql_db_query\"\n",
      "}\n"
     ]
    }
   ],
   "source": [
    "print(json.dumps(response['messages'][2]['content'], ensure_ascii=False, indent=2))"
   ]
  },
  {
   "cell_type": "code",
   "execution_count": null,
   "id": "1ca272d6",
   "metadata": {},
   "outputs": [],
   "source": []
  }
 ],
 "metadata": {
  "kernelspec": {
   "display_name": "myenv (3.12.3)",
   "language": "python",
   "name": "python3"
  },
  "language_info": {
   "codemirror_mode": {
    "name": "ipython",
    "version": 3
   },
   "file_extension": ".py",
   "mimetype": "text/x-python",
   "name": "python",
   "nbconvert_exporter": "python",
   "pygments_lexer": "ipython3",
   "version": "3.12.3"
  }
 },
 "nbformat": 4,
 "nbformat_minor": 5
}
